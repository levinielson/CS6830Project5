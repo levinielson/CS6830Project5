{
 "cells": [
  {
   "cell_type": "code",
   "execution_count": null,
   "metadata": {},
   "outputs": [],
   "source": [
    "from sklearn.preprocessing import OneHotEncoder\n",
    "from sklearn.model_selection import train_test_split\n",
    "import nltk\n",
    "from nltk.corpus import names\n",
    "from nltk.metrics.scores import precision, recall\n",
    "from sklearn.metrics import precision_recall_fscore_support\n",
    "import pandas as pd\n",
    "from sklearn.naive_bayes import GaussianNB\n",
    "from sklearn.model_selection import StratifiedShuffleSplit\n",
    "from matplotlib import pyplot as plt\n",
    "import seaborn as sns"
   ]
  },
  {
   "cell_type": "code",
   "execution_count": null,
   "metadata": {},
   "outputs": [],
   "source": [
    "def team_features(team):\n",
    "    info = {}\n",
    "    for i in range(1,17):\n",
    "        info[f\"seed: {i}\"] = False\n",
    "        if int(team.SEED) == i:\n",
    "          info[f\"seed: {i}\"] = True\n",
    "    info[\"Win/Loss ratio\"] = 0 if team.W / (team.G - team.W) < 1.5 else 1\n",
    "    info[\"2-point rate\"] = 0 if (team[\"2P_O\"]) < 55 else 1\n",
    "    info[\"3-point rate\"] = 0 if int(team[\"3P_O\"]) < 35 else 1\n",
    "    \n",
    "    return info"
   ]
  },
  {
   "cell_type": "code",
   "execution_count": null,
   "metadata": {},
   "outputs": [],
   "source": [
    "df = pd.read_csv(\"cbb.csv\")\n",
    "df = df.dropna()\n",
    "df['SEED'] = df['SEED'].astype(str).str.replace('$', '',regex=True).astype('float')\n",
    "df['3P_O'] = df['3P_O'].astype(str).str.replace('$', '',regex=True).astype('float')\n",
    "df['2P_O'] = df['2P_O'].astype(str).str.replace('$', '',regex=True).astype('float')\n",
    "df['W'] = df['W'].astype(str).str.replace('$', '',regex=True).astype('float')"
   ]
  },
  {
   "cell_type": "code",
   "execution_count": null,
   "metadata": {},
   "outputs": [],
   "source": [
    "data = []\n",
    "for i in range(df.TEAM.size):\n",
    "    curr = df.iloc[i]\n",
    "    if curr.POSTSEASON != \"NA\" and curr.SEED != \"NA\":\n",
    "      oneWin = \"First round out\" if curr.POSTSEASON in [\"R68\", \"R64\"] else \"Past first round\"  \n",
    "      data.append((team_features(curr), oneWin))"
   ]
  },
  {
   "cell_type": "code",
   "execution_count": null,
   "metadata": {},
   "outputs": [],
   "source": [
    "def get_classifier(test_size, random_state):\n",
    "    train_set, test_set = train_test_split(data, test_size=test_size, random_state=random_state)\n",
    "    classifier = nltk.NaiveBayesClassifier.train(train_set)\n",
    "    return [train_set, test_set, classifier]"
   ]
  },
  {
   "cell_type": "code",
   "execution_count": null,
   "metadata": {},
   "outputs": [],
   "source": [
    "final_value  = [0 ,0 ,0, 0, 0]\n",
    "for num in range(1, 10):\n",
    "    test_size = num / 10.0\n",
    "    for random_state in range(1, 50):\n",
    "        train_set, test_set, classifier = get_classifier(test_size, random_state)\n",
    "        y_true = list(list(zip(*test_set))[1])\n",
    "        test_features = list(list(zip(*test_set))[0])\n",
    "        y_predict = [classifier.classify(features) for features in test_features]\n",
    "        (p,r,f,s) = precision_recall_fscore_support(y_true, y_predict)\n",
    "        if (p[0] > final_value[0]):\n",
    "            final_value[0] = p[0]\n",
    "            final_value[1] = test_size\n",
    "            final_value[2] = random_state\n",
    "            final_value[3] = (p,r,f,s)\n",
    "            final_value[4] = classifier"
   ]
  },
  {
   "cell_type": "code",
   "execution_count": null,
   "metadata": {},
<<<<<<< HEAD
   "outputs": [],
=======
   "outputs": [
    {
     "name": "stdout",
     "output_type": "stream",
     "text": [
      "best precision_recall_fscore_support value with test size of 0.1 random state of 43 is (array([0.9047619 , 0.77777778]), array([0.76      , 0.91304348]), array([0.82608696, 0.84      ]), array([25, 23]))\n",
      "Most Informative Features\n",
      "                seed: 16 = True           First  : Past f =     21.6 : 1.0\n",
      "                 seed: 2 = True           Past f : First  =     10.2 : 1.0\n",
      "                seed: 15 = True           First  : Past f =      9.4 : 1.0\n",
      "                 seed: 3 = True           Past f : First  =      9.3 : 1.0\n",
      "                 seed: 4 = True           Past f : First  =      8.8 : 1.0\n",
      "          Win/Loss ratio = 1.75           First  : Past f =      8.2 : 1.0\n",
      "          Win/Loss ratio = 2.6            Past f : First  =      6.2 : 1.0\n",
      "            3-point rate = 36.5           Past f : First  =      5.5 : 1.0\n",
      "            2-point rate = 52.9           Past f : First  =      5.5 : 1.0\n",
      "          Win/Loss ratio = 3.125          First  : Past f =      4.6 : 1.0\n",
      "            2-point rate = 49.2           First  : Past f =      4.5 : 1.0\n",
      "            3-point rate = 35.3           Past f : First  =      4.0 : 1.0\n",
      "            2-point rate = 50.5           Past f : First  =      4.0 : 1.0\n",
      "            2-point rate = 53.6           Past f : First  =      4.0 : 1.0\n",
      "            3-point rate = 32.6           First  : Past f =      3.9 : 1.0\n"
     ]
    }
   ],
>>>>>>> 89660ae (fixed few bugs)
   "source": [
    "print(\"best precision_recall_fscore_support value with test size of \" + str(final_value[1]) + \" random state of \" + str(final_value[2]) + \" is \" + str(final_value[3]) )\n",
    "\n",
    "final_value[4].show_most_informative_features(15)"
   ]
  },
  {
   "cell_type": "code",
   "execution_count": null,
   "metadata": {},
   "outputs": [],
   "source": [
    "final_value1  = [0 ,0 ,0, 0]\n",
    "for num in range(1, 10):\n",
    "    test_size = num / 10.0\n",
    "    for random_state in range(1, 50):\n",
    "        train_set, test_set = train_test_split(data, test_size=0.2, random_state=36)\n",
    "\n",
    "        # Modify the feature matrix to have 2D array shape\n",
    "        X_train = [list(features.values()) for features, label in train_set]\n",
    "        y_train = [label for features, label in train_set]\n",
    "        X_test = [list(features.values()) for features, label in test_set]\n",
    "        y_test = [label for features, label in test_set]\n",
    "\n",
    "        clf = GaussianNB()\n",
    "        clf.fit(X_train, y_train)\n",
    "        y_pred = clf.predict(X_test)\n",
    "        p,r,f,s = precision_recall_fscore_support(y_test, y_pred)\n",
    "        if (p[0] > final_value1[0]):\n",
    "            final_value1[0] = p[0]\n",
    "            final_value1[1] = test_size\n",
    "            final_value1[2] = random_state\n",
    "            final_value1[3] = (p,r,f,s)"
   ]
  },
  {
   "cell_type": "code",
   "execution_count": null,
   "metadata": {},
<<<<<<< HEAD
   "outputs": [],
=======
   "outputs": [
    {
     "name": "stdout",
     "output_type": "stream",
     "text": [
      "best precision_recall_fscore_support value with test size of 0.1 random state of 1 is (array([0.92592593, 0.57971014]), array([0.46296296, 0.95238095]), array([0.61728395, 0.72072072]), array([54, 42]))\n"
     ]
    }
   ],
>>>>>>> 89660ae (fixed few bugs)
   "source": [
    "print(\"best precision_recall_fscore_support value with test size of \" + str(final_value1[1]) + \" random state of \" + str(final_value1[2]) + \" is \" + str(final_value1[3]) )"
   ]
  },
  {
   "cell_type": "code",
   "execution_count": null,
   "metadata": {},
   "outputs": [],
   "source": [
    "df['win/loss'] = df.W / (df.G - df.W)\n",
    "df1 = df[df['SEED'] == 16]\n",
    "top_10 = df1.head(10)\n",
    "top_10"
   ]
  },
  {
   "cell_type": "code",
   "execution_count": null,
   "metadata": {},
   "outputs": [],
   "source": [
    "fig, ax = plt.subplots(2, 1, figsize=(15,15))\n",
    "\n",
    "ax = plt.subplot(2,1,1)\n",
    "sns.barplot(data=top_10, x=\"TEAM\", y=\"3P_O\")\n",
    "\n",
    "ax = plt.subplot(2,1,2)\n",
    "sns.barplot(data=top_10, x=\"TEAM\", y=\"win/loss\")"
   ]
  },
  {
   "cell_type": "code",
   "execution_count": null,
   "metadata": {},
   "outputs": [],
   "source": [
    "a = top_10.groupby('POSTSEASON').agg({'W':'count'}).reset_index()\n",
    "b = top_10.groupby('YEAR').agg({'W':'count'}).reset_index()\n",
    "\n",
    "fig, ax = plt.subplots(2, 1, figsize=(15,15))\n",
    "\n",
    "ax = plt.subplot(2,1,1)\n",
    "sns.barplot(data=a, x=\"POSTSEASON\", y=\"W\")\n",
    "\n",
    "ax = plt.subplot(2,1,2)\n",
    "sns.barplot(data=b, x=\"YEAR\", y=\"W\")"
   ]
  },
  {
   "cell_type": "code",
   "execution_count": null,
   "metadata": {},
<<<<<<< HEAD
   "outputs": [],
=======
   "outputs": [
    {
     "data": {
      "text/html": [
       "<div>\n",
       "<style scoped>\n",
       "    .dataframe tbody tr th:only-of-type {\n",
       "        vertical-align: middle;\n",
       "    }\n",
       "\n",
       "    .dataframe tbody tr th {\n",
       "        vertical-align: top;\n",
       "    }\n",
       "\n",
       "    .dataframe thead th {\n",
       "        text-align: right;\n",
       "    }\n",
       "</style>\n",
       "<table border=\"1\" class=\"dataframe\">\n",
       "  <thead>\n",
       "    <tr style=\"text-align: right;\">\n",
       "      <th></th>\n",
       "      <th>TEAM</th>\n",
       "      <th>CONF</th>\n",
       "      <th>G</th>\n",
       "      <th>W</th>\n",
       "      <th>ADJOE</th>\n",
       "      <th>ADJDE</th>\n",
       "      <th>BARTHAG</th>\n",
       "      <th>EFG_O</th>\n",
       "      <th>EFG_D</th>\n",
       "      <th>TOR</th>\n",
       "      <th>...</th>\n",
       "      <th>2P_O</th>\n",
       "      <th>2P_D</th>\n",
       "      <th>3P_O</th>\n",
       "      <th>3P_D</th>\n",
       "      <th>ADJ_T</th>\n",
       "      <th>WAB</th>\n",
       "      <th>POSTSEASON</th>\n",
       "      <th>SEED</th>\n",
       "      <th>YEAR</th>\n",
       "      <th>win/loss</th>\n",
       "    </tr>\n",
       "  </thead>\n",
       "  <tbody>\n",
       "    <tr>\n",
       "      <th>2108</th>\n",
       "      <td>Alabama</td>\n",
       "      <td>SEC</td>\n",
       "      <td>36</td>\n",
       "      <td>20.0</td>\n",
       "      <td>107.9</td>\n",
       "      <td>95.3</td>\n",
       "      <td>0.8074</td>\n",
       "      <td>51.9</td>\n",
       "      <td>47.8</td>\n",
       "      <td>20.3</td>\n",
       "      <td>...</td>\n",
       "      <td>53.5</td>\n",
       "      <td>46.9</td>\n",
       "      <td>32.6</td>\n",
       "      <td>32.8</td>\n",
       "      <td>69.9</td>\n",
       "      <td>-1.1</td>\n",
       "      <td>R32</td>\n",
       "      <td>9.0</td>\n",
       "      <td>2018</td>\n",
       "      <td>1.250000</td>\n",
       "    </tr>\n",
       "    <tr>\n",
       "      <th>2249</th>\n",
       "      <td>Wyoming</td>\n",
       "      <td>MWC</td>\n",
       "      <td>33</td>\n",
       "      <td>23.0</td>\n",
       "      <td>102.1</td>\n",
       "      <td>98.2</td>\n",
       "      <td>0.6121</td>\n",
       "      <td>52.2</td>\n",
       "      <td>47.0</td>\n",
       "      <td>18.8</td>\n",
       "      <td>...</td>\n",
       "      <td>54.4</td>\n",
       "      <td>44.0</td>\n",
       "      <td>32.6</td>\n",
       "      <td>34.9</td>\n",
       "      <td>59.2</td>\n",
       "      <td>-1.6</td>\n",
       "      <td>R64</td>\n",
       "      <td>12.0</td>\n",
       "      <td>2015</td>\n",
       "      <td>2.300000</td>\n",
       "    </tr>\n",
       "    <tr>\n",
       "      <th>2271</th>\n",
       "      <td>Holy Cross</td>\n",
       "      <td>Pat</td>\n",
       "      <td>35</td>\n",
       "      <td>15.0</td>\n",
       "      <td>96.7</td>\n",
       "      <td>106.9</td>\n",
       "      <td>0.2398</td>\n",
       "      <td>47.9</td>\n",
       "      <td>53.2</td>\n",
       "      <td>16.8</td>\n",
       "      <td>...</td>\n",
       "      <td>47.2</td>\n",
       "      <td>52.8</td>\n",
       "      <td>32.6</td>\n",
       "      <td>35.7</td>\n",
       "      <td>64.6</td>\n",
       "      <td>-14.5</td>\n",
       "      <td>R64</td>\n",
       "      <td>16.0</td>\n",
       "      <td>2016</td>\n",
       "      <td>0.750000</td>\n",
       "    </tr>\n",
       "    <tr>\n",
       "      <th>2330</th>\n",
       "      <td>Western Michigan</td>\n",
       "      <td>MAC</td>\n",
       "      <td>32</td>\n",
       "      <td>22.0</td>\n",
       "      <td>104.7</td>\n",
       "      <td>102.5</td>\n",
       "      <td>0.5605</td>\n",
       "      <td>52.0</td>\n",
       "      <td>47.6</td>\n",
       "      <td>20.9</td>\n",
       "      <td>...</td>\n",
       "      <td>53.7</td>\n",
       "      <td>47.8</td>\n",
       "      <td>32.6</td>\n",
       "      <td>31.5</td>\n",
       "      <td>67.0</td>\n",
       "      <td>-2.9</td>\n",
       "      <td>R64</td>\n",
       "      <td>14.0</td>\n",
       "      <td>2014</td>\n",
       "      <td>2.200000</td>\n",
       "    </tr>\n",
       "    <tr>\n",
       "      <th>2337</th>\n",
       "      <td>Coastal Carolina</td>\n",
       "      <td>BSth</td>\n",
       "      <td>31</td>\n",
       "      <td>18.0</td>\n",
       "      <td>98.3</td>\n",
       "      <td>102.0</td>\n",
       "      <td>0.3946</td>\n",
       "      <td>48.0</td>\n",
       "      <td>47.5</td>\n",
       "      <td>20.2</td>\n",
       "      <td>...</td>\n",
       "      <td>47.6</td>\n",
       "      <td>46.7</td>\n",
       "      <td>32.6</td>\n",
       "      <td>32.4</td>\n",
       "      <td>67.5</td>\n",
       "      <td>-7.7</td>\n",
       "      <td>R64</td>\n",
       "      <td>16.0</td>\n",
       "      <td>2014</td>\n",
       "      <td>1.384615</td>\n",
       "    </tr>\n",
       "    <tr>\n",
       "      <th>2344</th>\n",
       "      <td>UNLV</td>\n",
       "      <td>MWC</td>\n",
       "      <td>34</td>\n",
       "      <td>24.0</td>\n",
       "      <td>104.7</td>\n",
       "      <td>88.4</td>\n",
       "      <td>0.8749</td>\n",
       "      <td>48.9</td>\n",
       "      <td>44.1</td>\n",
       "      <td>20.2</td>\n",
       "      <td>...</td>\n",
       "      <td>48.9</td>\n",
       "      <td>42.6</td>\n",
       "      <td>32.6</td>\n",
       "      <td>31.6</td>\n",
       "      <td>69.3</td>\n",
       "      <td>1.8</td>\n",
       "      <td>R64</td>\n",
       "      <td>5.0</td>\n",
       "      <td>2013</td>\n",
       "      <td>2.400000</td>\n",
       "    </tr>\n",
       "    <tr>\n",
       "      <th>2372</th>\n",
       "      <td>Tulsa</td>\n",
       "      <td>Amer</td>\n",
       "      <td>32</td>\n",
       "      <td>20.0</td>\n",
       "      <td>109.5</td>\n",
       "      <td>99.6</td>\n",
       "      <td>0.7486</td>\n",
       "      <td>50.3</td>\n",
       "      <td>48.2</td>\n",
       "      <td>15.6</td>\n",
       "      <td>...</td>\n",
       "      <td>51.1</td>\n",
       "      <td>45.0</td>\n",
       "      <td>32.6</td>\n",
       "      <td>35.9</td>\n",
       "      <td>69.4</td>\n",
       "      <td>-1.2</td>\n",
       "      <td>R68</td>\n",
       "      <td>11.0</td>\n",
       "      <td>2016</td>\n",
       "      <td>1.666667</td>\n",
       "    </tr>\n",
       "  </tbody>\n",
       "</table>\n",
       "<p>7 rows × 25 columns</p>\n",
       "</div>"
      ],
      "text/plain": [
       "                  TEAM  CONF   G     W  ADJOE  ADJDE  BARTHAG  EFG_O  EFG_D  \\\n",
       "2108           Alabama   SEC  36  20.0  107.9   95.3   0.8074   51.9   47.8   \n",
       "2249           Wyoming   MWC  33  23.0  102.1   98.2   0.6121   52.2   47.0   \n",
       "2271        Holy Cross   Pat  35  15.0   96.7  106.9   0.2398   47.9   53.2   \n",
       "2330  Western Michigan   MAC  32  22.0  104.7  102.5   0.5605   52.0   47.6   \n",
       "2337  Coastal Carolina  BSth  31  18.0   98.3  102.0   0.3946   48.0   47.5   \n",
       "2344              UNLV   MWC  34  24.0  104.7   88.4   0.8749   48.9   44.1   \n",
       "2372             Tulsa  Amer  32  20.0  109.5   99.6   0.7486   50.3   48.2   \n",
       "\n",
       "       TOR  ...  2P_O  2P_D  3P_O  3P_D  ADJ_T   WAB  POSTSEASON  SEED  YEAR  \\\n",
       "2108  20.3  ...  53.5  46.9  32.6  32.8   69.9  -1.1         R32   9.0  2018   \n",
       "2249  18.8  ...  54.4  44.0  32.6  34.9   59.2  -1.6         R64  12.0  2015   \n",
       "2271  16.8  ...  47.2  52.8  32.6  35.7   64.6 -14.5         R64  16.0  2016   \n",
       "2330  20.9  ...  53.7  47.8  32.6  31.5   67.0  -2.9         R64  14.0  2014   \n",
       "2337  20.2  ...  47.6  46.7  32.6  32.4   67.5  -7.7         R64  16.0  2014   \n",
       "2344  20.2  ...  48.9  42.6  32.6  31.6   69.3   1.8         R64   5.0  2013   \n",
       "2372  15.6  ...  51.1  45.0  32.6  35.9   69.4  -1.2         R68  11.0  2016   \n",
       "\n",
       "      win/loss  \n",
       "2108  1.250000  \n",
       "2249  2.300000  \n",
       "2271  0.750000  \n",
       "2330  2.200000  \n",
       "2337  1.384615  \n",
       "2344  2.400000  \n",
       "2372  1.666667  \n",
       "\n",
       "[7 rows x 25 columns]"
      ]
     },
     "execution_count": 13,
     "metadata": {},
     "output_type": "execute_result"
    }
   ],
>>>>>>> 89660ae (fixed few bugs)
   "source": [
    "df2 = df[df['3P_O'] == 32.6]\n",
    "top_10_2 = df2.head(10)\n",
    "top_10_2"
   ]
  },
  {
   "cell_type": "code",
   "execution_count": null,
   "metadata": {},
<<<<<<< HEAD
   "outputs": [],
=======
   "outputs": [
    {
     "data": {
      "text/plain": [
       "<AxesSubplot:xlabel='YEAR', ylabel='W'>"
      ]
     },
     "execution_count": 14,
     "metadata": {},
     "output_type": "execute_result"
    },
    {
     "data": {
      "image/png": "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\n",
      "text/plain": [
       "<Figure size 1080x1080 with 2 Axes>"
      ]
     },
     "metadata": {
      "needs_background": "light"
     },
     "output_type": "display_data"
    }
   ],
>>>>>>> 89660ae (fixed few bugs)
   "source": [
    "a1 = top_10_2.groupby('POSTSEASON').agg({'W':'count'}).reset_index()\n",
    "b1 = top_10_2.groupby('YEAR').agg({'W':'count'}).reset_index()\n",
    "\n",
    "fig, ax = plt.subplots(2, 1, figsize=(15,15))\n",
    "\n",
    "ax = plt.subplot(2,1,1)\n",
    "sns.barplot(data=a1, x=\"POSTSEASON\", y=\"W\")\n",
    "\n",
    "ax = plt.subplot(2,1,2)\n",
    "sns.barplot(data=b1, x=\"YEAR\", y=\"W\")"
   ]
  }
 ],
 "metadata": {
  "kernelspec": {
   "display_name": "Python 3 (ipykernel)",
   "language": "python",
   "name": "python3"
  },
  "language_info": {
   "codemirror_mode": {
    "name": "ipython",
    "version": 3
   },
   "file_extension": ".py",
   "mimetype": "text/x-python",
   "name": "python",
   "nbconvert_exporter": "python",
   "pygments_lexer": "ipython3",
   "version": "3.10.6"
  },
  "vscode": {
   "interpreter": {
    "hash": "369f2c481f4da34e4445cda3fffd2e751bd1c4d706f27375911949ba6bb62e1c"
   }
  }
 },
 "nbformat": 4,
 "nbformat_minor": 2
}
