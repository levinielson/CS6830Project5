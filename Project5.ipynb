{
 "cells": [
  {
   "cell_type": "code",
   "execution_count": null,
   "metadata": {},
   "outputs": [],
   "source": [
    "from sklearn.preprocessing import OneHotEncoder\n",
    "from sklearn.model_selection import train_test_split\n",
    "import nltk\n",
    "from nltk.corpus import names\n",
    "from nltk.metrics.scores import precision, recall\n",
    "from sklearn.metrics import precision_recall_fscore_support\n",
    "import pandas as pd"
   ]
  },
  {
   "cell_type": "code",
   "execution_count": null,
   "metadata": {},
   "outputs": [],
   "source": [
    "def team_features(team):\n",
    "    info = {}\n",
    "    for i in range(1,17):\n",
    "        info[f\"seed: {i}\"] = False\n",
    "        if int(team.SEED) == i:\n",
    "          info[f\"seed: {i}\"] = True\n",
    "    info[\"Win/Loss ratio\"] = team.W / (team.G - team.W)\n",
    "    info[\"2-point rate\"] = team[\"2P_O\"]\n",
    "    info[\"3-point rate\"] = team[\"3P_O\"]\n",
    "    \n",
    "    return info\n",
    "\n",
    "\n",
    "df = pd.read_csv(\"cbb.csv\")\n",
    "df = df.dropna()\n",
    "data = []\n",
    "for i in range(df.TEAM.size):\n",
    "    curr = df.iloc[i]\n",
    "    if curr.POSTSEASON != \"NA\" and curr.SEED != \"NA\":\n",
    "      oneWin = \"First round out\" if curr.POSTSEASON in [\"R68\", \"R64\"] else \"Past first round\"  \n",
    "      data.append((team_features(curr), oneWin))\n",
    "\n",
    "train_set, test_set = train_test_split(data)\n",
    "classifier = nltk.NaiveBayesClassifier.train(train_set)"
   ]
  },
  {
   "cell_type": "code",
   "execution_count": null,
   "metadata": {},
   "outputs": [],
   "source": [
    "y_true = list(list(zip(*test_set))[1])\n",
    "test_features = list(list(zip(*test_set))[0])\n",
    "y_predict = [classifier.classify(features) for features in test_features]\n",
    "(p,r,f,s) = precision_recall_fscore_support(y_true, y_predict)\n",
    "print(p,r,f,s)\n",
    "\n",
    "classifier.show_most_informative_features(15)"
   ]
  }
 ],
 "metadata": {
  "kernelspec": {
   "display_name": "Python 3",
   "language": "python",
   "name": "python3"
  },
  "language_info": {
   "codemirror_mode": {
    "name": "ipython",
    "version": 3
   },
   "file_extension": ".py",
   "mimetype": "text/x-python",
   "name": "python",
   "nbconvert_exporter": "python",
   "pygments_lexer": "ipython3",
   "version": "3.10.6"
  },
  "orig_nbformat": 4,
  "vscode": {
   "interpreter": {
    "hash": "369f2c481f4da34e4445cda3fffd2e751bd1c4d706f27375911949ba6bb62e1c"
   }
  }
 },
 "nbformat": 4,
 "nbformat_minor": 2
}
