{
 "cells": [
  {
   "cell_type": "code",
   "execution_count": null,
   "metadata": {},
   "outputs": [],
   "source": [
    "from sklearn.preprocessing import OneHotEncoder\n",
    "from sklearn.model_selection import train_test_split\n",
    "import nltk\n",
    "from nltk.corpus import names\n",
    "from nltk.metrics.scores import precision, recall\n",
    "from sklearn.metrics import precision_recall_fscore_support\n",
    "import pandas as pd\n",
    "from sklearn.naive_bayes import GaussianNB\n",
    "from sklearn.model_selection import StratifiedShuffleSplit\n",
    "from matplotlib import pyplot as plt\n",
    "import seaborn as sns"
   ]
  },
  {
   "cell_type": "code",
   "execution_count": null,
   "metadata": {},
   "outputs": [],
   "source": [
    "def team_features(team):\n",
    "    info = {}\n",
    "    for i in range(1,17):\n",
    "        info[f\"seed: {i}\"] = False\n",
    "        if int(team.SEED) == i:\n",
    "          info[f\"seed: {i}\"] = True\n",
    "    info[\"Win/Loss ratio\"] = 0 if team.W / (team.G - team.W) < 1.5 else 1\n",
    "    info[\"2-point rate\"] = 0 if (team[\"2P_O\"]) < 55 else 1\n",
    "    info[\"3-point rate\"] = 0 if int(team[\"3P_O\"]) < 35 else 1\n",
    "    \n",
    "    return info"
   ]
  },
  {
   "cell_type": "code",
   "execution_count": null,
   "metadata": {},
   "outputs": [],
   "source": [
    "df = pd.read_csv(\"cbb.csv\")\n",
    "df = df.dropna()\n",
    "df['SEED'] = df['SEED'].astype(str).str.replace('$', '',regex=True).astype('float')\n",
    "df['3P_O'] = df['3P_O'].astype(str).str.replace('$', '',regex=True).astype('float')\n",
    "df['2P_O'] = df['2P_O'].astype(str).str.replace('$', '',regex=True).astype('float')\n",
    "df['W'] = df['W'].astype(str).str.replace('$', '',regex=True).astype('float')"
   ]
  },
  {
   "cell_type": "code",
   "execution_count": null,
   "metadata": {},
   "outputs": [],
   "source": [
    "data = []\n",
    "for i in range(df.TEAM.size):\n",
    "    curr = df.iloc[i]\n",
    "    if curr.POSTSEASON != \"NA\" and curr.SEED != \"NA\":\n",
    "      oneWin = \"First round out\" if curr.POSTSEASON in [\"R68\", \"R64\"] else \"Past first round\"  \n",
    "      data.append((team_features(curr), oneWin))"
   ]
  },
  {
   "cell_type": "code",
   "execution_count": null,
   "metadata": {},
   "outputs": [],
   "source": [
    "train_set, test_set = train_test_split(data, test_size=0.1, random_state=43)\n",
    "print(train_set[0])\n",
    "\n",
    "classifier = nltk.NaiveBayesClassifier.train(train_set)"
   ]
  },
  {
   "cell_type": "code",
   "execution_count": null,
   "metadata": {},
   "outputs": [],
   "source": [
    "y_true = list(list(zip(*test_set))[1])\n",
    "test_features = list(list(zip(*test_set))[0])\n",
    "y_predict = [classifier.classify(features) for features in test_features]"
   ]
  },
  {
   "cell_type": "code",
   "execution_count": null,
   "metadata": {},
   "outputs": [],
   "source": [
    "(p,r,f,s) = precision_recall_fscore_support(y_true, y_predict)\n",
    "print(p,r,f,s)\n",
    "\n",
    "classifier.show_most_informative_features(15)"
   ]
  },
  {
   "cell_type": "code",
   "execution_count": null,
   "metadata": {},
   "outputs": [],
   "source": [
    "train_set, test_set = train_test_split(data, test_size=0.2, random_state=36)\n",
    "\n",
    "# Modify the feature matrix to have 2D array shape\n",
    "X_train = [list(features.values()) for features, label in train_set]\n",
    "y_train = [label for features, label in train_set]\n",
    "X_test = [list(features.values()) for features, label in test_set]\n",
    "y_test = [label for features, label in test_set]\n",
    "\n",
    "clf = GaussianNB()\n",
    "clf.fit(X_train, y_train)\n",
    "y_pred = clf.predict(X_test)"
   ]
  },
  {
   "cell_type": "code",
   "execution_count": null,
   "metadata": {},
   "outputs": [],
   "source": [
    "p,r,f,s = precision_recall_fscore_support(y_test, y_pred)\n",
    "print(p, r, f)"
   ]
  },
  {
   "cell_type": "code",
   "execution_count": null,
   "metadata": {},
   "outputs": [],
   "source": [
    "df['win/loss'] = df.W / (df.G - df.W)\n",
    "df1 = df[df['SEED'] == 16]\n",
    "top_10 = df1.head(10)\n",
    "top_10"
   ]
  },
  {
   "cell_type": "code",
   "execution_count": null,
   "metadata": {},
   "outputs": [],
   "source": [
    "fig, ax = plt.subplots(2, 1, figsize=(15,15))\n",
    "\n",
    "ax = plt.subplot(2,1,1)\n",
    "sns.barplot(data=top_10, x=\"TEAM\", y=\"3P_O\")\n",
    "\n",
    "ax = plt.subplot(2,1,2)\n",
    "sns.barplot(data=top_10, x=\"TEAM\", y=\"win/loss\")"
   ]
  },
  {
   "cell_type": "code",
   "execution_count": null,
   "metadata": {},
   "outputs": [],
   "source": [
    "a = top_10.groupby('POSTSEASON').agg({'W':'count'}).reset_index()\n",
    "b = top_10.groupby('YEAR').agg({'W':'count'}).reset_index()\n",
    "\n",
    "fig, ax = plt.subplots(2, 1, figsize=(15,15))\n",
    "\n",
    "ax = plt.subplot(2,1,1)\n",
    "sns.barplot(data=a, x=\"POSTSEASON\", y=\"W\")\n",
    "\n",
    "ax = plt.subplot(2,1,2)\n",
    "sns.barplot(data=b, x=\"YEAR\", y=\"W\")"
   ]
  },
  {
   "cell_type": "code",
   "execution_count": null,
   "metadata": {},
   "outputs": [],
   "source": [
    "df2 = df[df['win/loss'] == 1.4285714285714286]\n",
    "top_10_2 = df2.head(10)\n",
    "top_10_2"
   ]
  },
  {
   "cell_type": "code",
   "execution_count": null,
   "metadata": {},
   "outputs": [],
   "source": [
    "a1 = top_10_2.groupby('POSTSEASON').agg({'W':'count'}).reset_index()\n",
    "b1 = top_10_2.groupby('YEAR').agg({'W':'count'}).reset_index()\n",
    "\n",
    "fig, ax = plt.subplots(2, 1, figsize=(15,15))\n",
    "\n",
    "ax = plt.subplot(2,1,1)\n",
    "sns.barplot(data=a1, x=\"POSTSEASON\", y=\"W\")\n",
    "\n",
    "ax = plt.subplot(2,1,2)\n",
    "sns.barplot(data=b1, x=\"YEAR\", y=\"W\")"
   ]
  },
  {
   "cell_type": "code",
   "execution_count": null,
   "metadata": {},
   "outputs": [],
   "source": []
  }
 ],
 "metadata": {
  "kernelspec": {
   "display_name": "Python 3 (ipykernel)",
   "language": "python",
   "name": "python3"
  },
  "language_info": {
   "codemirror_mode": {
    "name": "ipython",
    "version": 3
   },
   "file_extension": ".py",
   "mimetype": "text/x-python",
   "name": "python",
   "nbconvert_exporter": "python",
   "pygments_lexer": "ipython3",
   "version": "3.10.6"
  },
  "vscode": {
   "interpreter": {
    "hash": "369f2c481f4da34e4445cda3fffd2e751bd1c4d706f27375911949ba6bb62e1c"
   }
  }
 },
 "nbformat": 4,
 "nbformat_minor": 2
}
